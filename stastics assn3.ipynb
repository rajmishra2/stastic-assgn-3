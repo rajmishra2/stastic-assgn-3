{
 "cells": [
  {
   "cell_type": "markdown",
   "id": "8e0e1fab-c769-4f1e-bf7b-48c4d53d7d73",
   "metadata": {},
   "source": [
    "Q1: What are the Probability Mass Function (PMF) and Probability Density Function (PDF)? Explain with\n",
    "an example.\n",
    "Probability mass function denotes the probability that a discrete random variable will take on a particular value. Probability density function gives the probability that a continuous random variable will lie between a certain specified interval. It is used for discrete random variables"
   ]
  },
  {
   "cell_type": "markdown",
   "id": "e36f1b34-ecd5-4248-aa8d-822e995fdce8",
   "metadata": {},
   "source": [
    "Q2: What is Cumulative Density Function (CDF)? Explain with an example. Why CDF is used?\n",
    "The cumulative distribution function is used to describe the probability distribution of random variables. It can be used to describe the probability for a discrete, continuous or mixed variable. It is obtained by summing up the probability density function and getting the cumulative probability for a random variable.\n"
   ]
  },
  {
   "cell_type": "markdown",
   "id": "b7c206dc-fdee-4cdd-ba23-5a2c18e05375",
   "metadata": {},
   "source": [
    "Q4: Explain the importance of Normal Distribution. Give a few real-life examples of Normal\n",
    "Distribution.\n",
    "normal distribution is good enough to represent the distribution of continuous variable like-height,weight,blood pressure etc.. often used to aproximate other distribution. normal distribution has significant use in statistical quality control"
   ]
  },
  {
   "cell_type": "markdown",
   "id": "78201b73-dcde-4836-9d1a-e4a4efe627f9",
   "metadata": {},
   "source": [
    "Q5: What is Bernaulli Distribution? Give an Example. What is the difference between Bernoulli\n",
    "Distribution and Binomial Distribution?\n",
    "The Bernoulli distribution represents the success or failure of a single Bernoulli trial. The Binomial Distribution represents the number of successes and failures in n independent Bernoulli trials for some given value of n\n",
    "a team will win game or not"
   ]
  },
  {
   "cell_type": "markdown",
   "id": "21bbc2a9-ae3d-4fd4-b212-7e35ee679130",
   "metadata": {},
   "source": [
    "Q7: Explain uniform Distribution with an example.\n",
    "uniform distribution refers to a type of probability distribution in which all outcomes are equally likely  A deck of cards has within it uniform distributions because the likelihood of drawing a heart, a club, a diamond, or a spade is equally likely."
   ]
  },
  {
   "cell_type": "markdown",
   "id": "ddbfd75a-a910-4b66-9f37-266cb3226ec8",
   "metadata": {},
   "source": [
    "Q8: What is the z score? State the importance of the z score.\n",
    "z-score measures the distance between a data point and the mean using standard deviations. Z-scores can be positive or negative. The sign tells you whether the observation is above or below the mean."
   ]
  },
  {
   "cell_type": "markdown",
   "id": "3dfd533c-7622-486e-a95d-e148e2dacaef",
   "metadata": {},
   "source": [
    "Q10: State the assumptions of the Central Limit Theorem.\n",
    "The central limit theorem states that whenever a random sample of size n is taken from any distribution with mean and variance, then the sample mean will be approximately a normal distribution with mean and variance. The larger the value of the sample size, the better the approximation of the normal."
   ]
  },
  {
   "cell_type": "markdown",
   "id": "dba11454-4fed-4a41-b42d-640e4cd96ef4",
   "metadata": {},
   "source": [
    "What is Central Limit Theorem? State the significance of the Central Limit Theorem.\n",
    "The central limit theorem (CLT) states that the distribution of sample means approximates a normal distribution as the sample size gets larger, regardless of the population's distribution. Sample sizes equal to or greater than 30 are often considered sufficient for the CLT to hold"
   ]
  },
  {
   "cell_type": "markdown",
   "id": "4fec759a-dc23-458e-b8c4-b42fe783fd2e",
   "metadata": {},
   "source": [
    "Q3: What are some examples of situations where the normal distribution might be used as a model?\n",
    "Explain how the parameters of the normal distribution relate to the shape of the distribution.\n",
    "Height. The height of people is an example of normal distribution"
   ]
  }
 ],
 "metadata": {
  "kernelspec": {
   "display_name": "Python 3 (ipykernel)",
   "language": "python",
   "name": "python3"
  },
  "language_info": {
   "codemirror_mode": {
    "name": "ipython",
    "version": 3
   },
   "file_extension": ".py",
   "mimetype": "text/x-python",
   "name": "python",
   "nbconvert_exporter": "python",
   "pygments_lexer": "ipython3",
   "version": "3.10.8"
  }
 },
 "nbformat": 4,
 "nbformat_minor": 5
}
